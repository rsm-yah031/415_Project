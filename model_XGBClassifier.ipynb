{
 "cells": [
  {
   "cell_type": "code",
   "execution_count": null,
   "metadata": {},
   "outputs": [],
   "source": [
    "import pandas as pd\n",
    "import numpy as np"
   ]
  },
  {
   "cell_type": "code",
   "execution_count": null,
   "metadata": {},
   "outputs": [],
   "source": [
    "train_set = pd.read_csv('dataset/train_processed.csv')\n",
    "train_set.head()"
   ]
  },
  {
   "cell_type": "code",
   "execution_count": null,
   "metadata": {},
   "outputs": [],
   "source": [
    "test_set = pd.read_csv('dataset/test_processed.csv')\n",
    "test_set.head()"
   ]
  },
  {
   "cell_type": "markdown",
   "metadata": {},
   "source": [
    "### TF-IDF"
   ]
  },
  {
   "cell_type": "code",
   "execution_count": null,
   "metadata": {},
   "outputs": [],
   "source": [
    "from sklearn.feature_extraction.text import TfidfVectorizer"
   ]
  },
  {
   "cell_type": "code",
   "execution_count": null,
   "metadata": {},
   "outputs": [],
   "source": [
    "vectorizer = TfidfVectorizer(max_features=15000, stop_words='english', ngram_range=(1, 3))"
   ]
  },
  {
   "cell_type": "code",
   "execution_count": null,
   "metadata": {},
   "outputs": [],
   "source": [
    "tfidf_X_train = vectorizer.fit_transform(train_set['clean_text'])\n",
    "tfidf_X_test = vectorizer.fit_transform(test_set['clean_text'])"
   ]
  },
  {
   "cell_type": "markdown",
   "metadata": {},
   "source": [
    "### Word2Vec"
   ]
  },
  {
   "cell_type": "code",
   "execution_count": null,
   "metadata": {},
   "outputs": [],
   "source": [
    "!pip install gensim"
   ]
  },
  {
   "cell_type": "code",
   "execution_count": null,
   "metadata": {},
   "outputs": [],
   "source": [
    "import gensim.downloader as api"
   ]
  },
  {
   "cell_type": "code",
   "execution_count": null,
   "metadata": {},
   "outputs": [],
   "source": [
    "wv = api.load('word2vec-google-news-300')"
   ]
  },
  {
   "cell_type": "code",
   "execution_count": null,
   "metadata": {},
   "outputs": [],
   "source": [
    "def text_vectorize(ls):\n",
    "    sumup = np.zeros(300)\n",
    "    vector_values = []\n",
    "    for i in ls:\n",
    "        try:\n",
    "            word_vector = wv[i]\n",
    "            vector_values.append(word_vector)\n",
    "        except KeyError:\n",
    "            pass\n",
    "    for k in vector_values:\n",
    "        sumup += k\n",
    "    sen_vector = sumup/len(vector_values)\n",
    "    return sen_vector"
   ]
  },
  {
   "cell_type": "code",
   "execution_count": null,
   "metadata": {},
   "outputs": [],
   "source": [
    "def w2v_process(column):\n",
    "  output = []\n",
    "  for i in range(len(column)):\n",
    "    tokens = column[i].split()\n",
    "    vector = text_vectorize(tokens)\n",
    "    output.append(vector)\n",
    "  return output"
   ]
  },
  {
   "cell_type": "code",
   "execution_count": null,
   "metadata": {},
   "outputs": [],
   "source": [
    "train_w2v = w2v_process(train_set['clean_text'])\n",
    "test_w2v = w2v_process(test_set['clean_text'])"
   ]
  },
  {
   "cell_type": "code",
   "execution_count": null,
   "metadata": {},
   "outputs": [],
   "source": [
    "train_set['w2v'] = train_w2v\n",
    "test_set['w2v'] = test_w2v"
   ]
  },
  {
   "cell_type": "markdown",
   "metadata": {},
   "source": [
    "### XGBClassifier"
   ]
  },
  {
   "cell_type": "code",
   "execution_count": null,
   "metadata": {},
   "outputs": [],
   "source": [
    "import sklearn.metrics as metrics\n",
    "from sklearn.linear_model import LogisticRegression\n",
    "from sklearn.impute import SimpleImputer\n",
    "from xgboost import XGBClassifier"
   ]
  },
  {
   "cell_type": "markdown",
   "metadata": {},
   "source": [
    "#### TF-IDF"
   ]
  },
  {
   "cell_type": "code",
   "execution_count": null,
   "metadata": {},
   "outputs": [],
   "source": [
    "xgb_model_tfidf = XGBClassifier(\n",
    "    tree_method='hist',\n",
    "    device='cuda:0',\n",
    "    n_estimators=100,\n",
    "    max_depth=6,\n",
    "    learning_rate=0.1,\n",
    "    subsample=0.8,\n",
    "    colsample_bytree=0.8,\n",
    "    random_state=42\n",
    ")"
   ]
  },
  {
   "cell_type": "code",
   "execution_count": null,
   "metadata": {},
   "outputs": [],
   "source": [
    "xgb_model_tfidf.fit(tfidf_X_train, train_set['label_num'])"
   ]
  },
  {
   "cell_type": "code",
   "execution_count": null,
   "metadata": {},
   "outputs": [],
   "source": [
    "y_pred = xgb_model_tfidf.predict(tfidf_X_test)\n",
    "print(f\"Accuracy: {metrics.accuracy_score(test_set['label_num'], y_pred)}\")\n",
    "print(f\"F1 Score: {metrics.f1_score(test_set['label_num'], y_pred)}\")\n",
    "print(f\"Precision: {metrics.precision_score(test_set['label_num'], y_pred)}\")\n",
    "print(f\"Recall: {metrics.recall_score(test_set['label_num'], y_pred)}\")"
   ]
  },
  {
   "cell_type": "markdown",
   "metadata": {},
   "source": [
    "#### Word2Vec"
   ]
  },
  {
   "cell_type": "code",
   "execution_count": null,
   "metadata": {},
   "outputs": [],
   "source": [
    "xgb_model_w2v = XGBClassifier(\n",
    "    tree_method='hist',\n",
    "    device='cuda:0',\n",
    "    n_estimators=100,\n",
    "    max_depth=6,\n",
    "    learning_rate=0.1,\n",
    "    subsample=0.8,\n",
    "    colsample_bytree=0.8,\n",
    "    random_state=42\n",
    ")"
   ]
  },
  {
   "cell_type": "code",
   "execution_count": null,
   "metadata": {},
   "outputs": [],
   "source": [
    "train_w2v_array = np.vstack(train_set['w2v'].to_numpy())\n",
    "train_w2v_array.shape"
   ]
  },
  {
   "cell_type": "code",
   "execution_count": null,
   "metadata": {},
   "outputs": [],
   "source": [
    "imputer = SimpleImputer(missing_values=np.nan, strategy='mean')\n",
    "train_w2v_array_imputed = imputer.fit_transform(train_w2v_array)"
   ]
  },
  {
   "cell_type": "code",
   "execution_count": null,
   "metadata": {},
   "outputs": [],
   "source": [
    "xgb_model_w2v.fit(train_w2v_array_imputed, train_set['label_num'])"
   ]
  },
  {
   "cell_type": "code",
   "execution_count": null,
   "metadata": {},
   "outputs": [],
   "source": [
    "test_w2v_array = np.vstack(test_set['w2v'].to_numpy())\n",
    "test_w2v_array_imputed = imputer.transform(test_w2v_array)\n",
    "y_pred = xgb_model_w2v.predict(test_w2v_array_imputed)\n",
    "print(f\"Accuracy: {metrics.accuracy_score(test_set['label_num'], y_pred)}\")\n",
    "print(f\"F1 Score: {metrics.f1_score(test_set['label_num'], y_pred)}\")\n",
    "print(f\"Precision: {metrics.precision_score(test_set['label_num'], y_pred)}\")\n",
    "print(f\"Recall: {metrics.recall_score(test_set['label_num'], y_pred)}\")"
   ]
  },
  {
   "cell_type": "markdown",
   "metadata": {},
   "source": [
    "### XGBClassifier - Tuned"
   ]
  },
  {
   "cell_type": "code",
   "execution_count": null,
   "metadata": {},
   "outputs": [],
   "source": [
    "from sklearn.model_selection import GridSearchCV"
   ]
  },
  {
   "cell_type": "code",
   "execution_count": null,
   "metadata": {},
   "outputs": [],
   "source": [
    "param_grid = {\n",
    "    'n_estimators': [50, 100, 200],\n",
    "    'max_depth': [3, 6, 9],\n",
    "    'subsample': [0.8, 1.0],\n",
    "    'tree_method': ['hist'],\n",
    "    'device': ['cuda:0']\n",
    "}"
   ]
  },
  {
   "cell_type": "markdown",
   "metadata": {},
   "source": [
    "#### TF-IDF"
   ]
  },
  {
   "cell_type": "code",
   "execution_count": null,
   "metadata": {},
   "outputs": [],
   "source": [
    "grid_search_tfidf = GridSearchCV(\n",
    "    estimator=xgb_model_tfidf,\n",
    "    param_grid=param_grid,\n",
    "    scoring='f1',\n",
    "    cv=5,\n",
    "    n_jobs=-1,\n",
    "    verbose=2\n",
    ")"
   ]
  },
  {
   "cell_type": "code",
   "execution_count": null,
   "metadata": {},
   "outputs": [],
   "source": [
    "grid_search_tfidf.fit(tfidf_X_train, train_set['label_num'])"
   ]
  },
  {
   "cell_type": "code",
   "execution_count": null,
   "metadata": {},
   "outputs": [],
   "source": [
    "print(\"Best parameters found: \", grid_search_tfidf.best_params_)"
   ]
  },
  {
   "cell_type": "code",
   "execution_count": null,
   "metadata": {},
   "outputs": [],
   "source": [
    "xgb_model_tfidf_tuned = XGBClassifier(\n",
    "    tree_method='hist',\n",
    "    device='cuda:0',\n",
    "    n_estimators=50,\n",
    "    max_depth=6,\n",
    "    learning_rate=0.1,\n",
    "    subsample=0.8,\n",
    "    colsample_bytree=0.8,\n",
    "    random_state=42\n",
    ")"
   ]
  },
  {
   "cell_type": "code",
   "execution_count": null,
   "metadata": {},
   "outputs": [],
   "source": [
    "xgb_model_tfidf_tuned.fit(tfidf_X_train, train_set['label_num'])"
   ]
  },
  {
   "cell_type": "code",
   "execution_count": null,
   "metadata": {},
   "outputs": [],
   "source": [
    "y_pred_tuned = xgb_model_tfidf_tuned.predict(tfidf_X_test)\n",
    "print(f\"Accuracy Tuned: {metrics.accuracy_score(test_set['label_num'], y_pred_tuned)}\")\n",
    "print(f\"F1 Score Tuned: {metrics.f1_score(test_set['label_num'], y_pred_tuned)}\")\n",
    "print(f\"Precision Tuned: {metrics.precision_score(test_set['label_num'], y_pred_tuned)}\")\n",
    "print(f\"Recall Tuned: {metrics.recall_score(test_set['label_num'], y_pred_tuned)}\")"
   ]
  },
  {
   "cell_type": "markdown",
   "metadata": {},
   "source": [
    "#### Word2Vec"
   ]
  },
  {
   "cell_type": "code",
   "execution_count": null,
   "metadata": {},
   "outputs": [],
   "source": [
    "grid_search_w2v = GridSearchCV(\n",
    "    estimator=xgb_model_w2v,\n",
    "    param_grid=param_grid,\n",
    "    scoring='f1',\n",
    "    cv=5,\n",
    "    n_jobs=-1,\n",
    "    verbose=2\n",
    ")"
   ]
  },
  {
   "cell_type": "code",
   "execution_count": null,
   "metadata": {},
   "outputs": [],
   "source": [
    "grid_search_w2v.fit(train_w2v_array_imputed, train_set['label_num'])"
   ]
  },
  {
   "cell_type": "code",
   "execution_count": null,
   "metadata": {},
   "outputs": [],
   "source": [
    "print(\"Best parameters found: \", grid_search_w2v.best_params_)"
   ]
  },
  {
   "cell_type": "code",
   "execution_count": null,
   "metadata": {},
   "outputs": [],
   "source": [
    "xgb_model_w2v_tuned = XGBClassifier(\n",
    "    tree_method='hist',\n",
    "    device='cuda:0',\n",
    "    n_estimators=200,\n",
    "    max_depth=9,\n",
    "    learning_rate=0.1,\n",
    "    subsample=0.8,\n",
    "    colsample_bytree=0.8,\n",
    "    random_state=42\n",
    ")"
   ]
  },
  {
   "cell_type": "code",
   "execution_count": null,
   "metadata": {},
   "outputs": [],
   "source": [
    "xgb_model_w2v_tuned.fit(train_w2v_array_imputed, train_set['label_num'])"
   ]
  },
  {
   "cell_type": "code",
   "execution_count": null,
   "metadata": {},
   "outputs": [],
   "source": [
    "y_pred_tuned = xgb_model_w2v_tuned.predict(test_w2v_array_imputed)\n",
    "print(f\"Accuracy Tuned: {metrics.accuracy_score(test_set['label_num'], y_pred_tuned)}\")\n",
    "print(f\"F1 Score Tuned: {metrics.f1_score(test_set['label_num'], y_pred_tuned)}\")\n",
    "print(f\"Precision Tuned: {metrics.precision_score(test_set['label_num'], y_pred_tuned)}\")\n",
    "print(f\"Recall Tuned: {metrics.recall_score(test_set['label_num'], y_pred_tuned)}\")"
   ]
  }
 ],
 "metadata": {
  "language_info": {
   "name": "python"
  }
 },
 "nbformat": 4,
 "nbformat_minor": 2
}
